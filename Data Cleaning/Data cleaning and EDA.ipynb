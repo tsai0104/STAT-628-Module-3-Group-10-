{
 "cells": [
  {
   "cell_type": "markdown",
   "id": "f723f1be",
   "metadata": {},
   "source": [
    "## STAT628 Module 3 Yelp Data \n",
    "### Brian Tsai \n",
    "#### mtsai36@wisc.edu"
   ]
  },
  {
   "cell_type": "markdown",
   "id": "8cd7a864",
   "metadata": {},
   "source": [
    "### Importing Required Packages"
   ]
  },
  {
   "cell_type": "code",
   "execution_count": 1,
   "id": "fb4a4142",
   "metadata": {},
   "outputs": [
    {
     "ename": "ModuleNotFoundError",
     "evalue": "No module named 'langdetect'",
     "output_type": "error",
     "traceback": [
      "\u001b[1;31m---------------------------------------------------------------------------\u001b[0m",
      "\u001b[1;31mModuleNotFoundError\u001b[0m                       Traceback (most recent call last)",
      "\u001b[1;32m<ipython-input-1-f53b74da46bb>\u001b[0m in \u001b[0;36m<module>\u001b[1;34m\u001b[0m\n\u001b[0;32m      7\u001b[0m \u001b[1;32mimport\u001b[0m \u001b[0mmatplotlib\u001b[0m\u001b[1;33m.\u001b[0m\u001b[0mpyplot\u001b[0m \u001b[1;32mas\u001b[0m \u001b[0mpy\u001b[0m\u001b[1;33m\u001b[0m\u001b[1;33m\u001b[0m\u001b[0m\n\u001b[0;32m      8\u001b[0m \u001b[1;32mimport\u001b[0m \u001b[0mseaborn\u001b[0m \u001b[1;32mas\u001b[0m \u001b[0msns\u001b[0m\u001b[1;33m\u001b[0m\u001b[1;33m\u001b[0m\u001b[0m\n\u001b[1;32m----> 9\u001b[1;33m \u001b[1;32mfrom\u001b[0m \u001b[0mlangdetect\u001b[0m \u001b[1;32mimport\u001b[0m \u001b[0mdetect_langs\u001b[0m\u001b[1;33m\u001b[0m\u001b[1;33m\u001b[0m\u001b[0m\n\u001b[0m\u001b[0;32m     10\u001b[0m \u001b[1;32mimport\u001b[0m \u001b[0mre\u001b[0m\u001b[1;33m\u001b[0m\u001b[1;33m\u001b[0m\u001b[0m\n",
      "\u001b[1;31mModuleNotFoundError\u001b[0m: No module named 'langdetect'"
     ]
    }
   ],
   "source": [
    "import numpy as np\n",
    "import pandas as pd\n",
    "import os\n",
    "import json\n",
    "from scipy import stats as st \n",
    "from collections import Counter\n",
    "import matplotlib.pyplot as py\n",
    "import seaborn as sns \n",
    "from langdetect import detect_langs\n",
    "import re"
   ]
  },
  {
   "cell_type": "markdown",
   "id": "56516750",
   "metadata": {},
   "source": [
    "### Reading Business json data "
   ]
  },
  {
   "cell_type": "code",
   "execution_count": null,
   "id": "c0cc79a5",
   "metadata": {},
   "outputs": [],
   "source": []
  },
  {
   "cell_type": "code",
   "execution_count": null,
   "id": "ad4194b4",
   "metadata": {},
   "outputs": [],
   "source": [
    "data = []\n",
    "with open('C:/Users/tsai_/Downloads/yelp_dataset/yelp_dataset/business.json', encoding = 'utf8') as fl:\n",
    "    for i, line in enumerate(fl):\n",
    "        data.append(json.loads(line))\n",
    "\n",
    "# Mexican restaurants \n",
    "mex = [] \n",
    "for i in range(len(data)): \n",
    "    if data[i]['categories'] != None: \n",
    "        if 'Mex' in data[i]['categories']:\n",
    "            mex.append(data[i])\n",
    "\n",
    "# Mexican restuarants that are open            \n",
    "mex_open = []\n",
    "for i in mex: \n",
    "    if i['is_open'] == 1: \n",
    "        mex_open.append(i)\n",
    "\n",
    "\n",
    "# Business id for open Mexican restuarants         \n",
    "mex_id = []\n",
    "for i in mex_open: \n",
    "    mex_id.append(i['business_id'])\n",
    "\n",
    "# Tacobell restaurants with >= 10 reviews  \n",
    "tacobell = [] \n",
    "tacobell_id = [] \n",
    "for i in mex_open: \n",
    "    if 'Taco Bell' in i['name'] and i['review_count'] >=10: \n",
    "        tacobell.append(i)\n",
    "        tacobell_id.append(i['business_id'])\n",
    "\n",
    "    \n",
    "# Chipotle restaurants with >= 10 reviews \n",
    "chipotle = [] \n",
    "chipotle_id = [] \n",
    "for i in mex_open:\n",
    "    if 'Chipotle Mex' in i['name'] and i['review_count'] >= 10:\n",
    "        chipotle.append(i) \n",
    "        chipotle_id.append(i['business_id'])\n"
   ]
  },
  {
   "cell_type": "markdown",
   "id": "76d7ea9b",
   "metadata": {},
   "source": [
    "## User json file "
   ]
  },
  {
   "cell_type": "code",
   "execution_count": null,
   "id": "0aa6949e",
   "metadata": {},
   "outputs": [],
   "source": [
    "user = []\n",
    "with open('C:/Users/tsai_/Downloads/yelp_dataset/yelp_dataset/user.json', encoding = 'utf8') as fl:\n",
    "    for i, line in enumerate(fl):\n",
    "        user.append(json.loads(line))\n",
    "df = pd.DataFrame(user)\n",
    "print(len(user))\n",
    "df.head()\n"
   ]
  },
  {
   "cell_type": "markdown",
   "id": "7e3b7e74",
   "metadata": {},
   "source": [
    "## Tips json file "
   ]
  },
  {
   "cell_type": "code",
   "execution_count": null,
   "id": "7a481c1b",
   "metadata": {},
   "outputs": [],
   "source": [
    "tacobell_tips = []\n",
    "chipotle_tips = []\n",
    "with open('C:/Users/tsai_/Downloads/yelp_dataset/yelp_dataset/tip.json', encoding = 'utf8') as fl:\n",
    "    for i, line in enumerate(fl):\n",
    "        x = json.loads(line)\n",
    "        if x['business_id'] in tacobell_id: \n",
    "            tacobell_tips.append(x)\n",
    "        if x['business_id'] in chipotle_id: \n",
    "            chipotle_tips.append(x)"
   ]
  },
  {
   "cell_type": "markdown",
   "id": "c7e1f3e9",
   "metadata": {},
   "source": [
    "## Reviews "
   ]
  },
  {
   "cell_type": "code",
   "execution_count": null,
   "id": "73584f16",
   "metadata": {},
   "outputs": [],
   "source": [
    "# Tacobell and Chipotle Reviews         \n",
    "tacobell_reviews = []\n",
    "chipotle_reviews = [] \n",
    "with open('C:/Users/tsai_/Downloads/yelp_dataset/yelp_dataset/review.json', encoding = 'utf8') as fl:\n",
    "    for i, line in enumerate(fl):\n",
    "        x = json.loads(line)\n",
    "        if x['business_id'] in tacobell_id: \n",
    "            tacobell_reviews.append(x)\n",
    "        if x['business_id'] in chipotle_id: \n",
    "            chipotle_reviews.append(x)        \n",
    "\n"
   ]
  },
  {
   "cell_type": "markdown",
   "id": "eeb9a6bd",
   "metadata": {},
   "source": [
    "## Preliminary Analysis"
   ]
  },
  {
   "cell_type": "code",
   "execution_count": null,
   "id": "9d46a13a",
   "metadata": {},
   "outputs": [],
   "source": [
    "# How the stars are distributed in the reviews \n",
    "# How the stars are distributed among the restaurants in the chain \n",
    "\n",
    "\n",
    "# Overall stars rating statistics\n",
    "tacobell_stars = []\n",
    "chipotle_stars = []\n",
    "for i in tacobell_reviews:\n",
    "    tacobell_stars.append(i['stars'])\n",
    "for j in chipotle_reviews:\n",
    "    chipotle_stars.append(j['stars'])\n",
    "\n",
    "tacobell_avg_rating = sum(tacobell_stars) / len(tacobell_reviews)\n",
    "chipotle_avg_rating = sum(chipotle_stars) / len(chipotle_reviews)\n",
    "\n",
    "tacobell_stars_dist = Counter(tacobell_stars)\n",
    "chipotle_stars_dist = Counter(chipotle_stars)\n",
    "\n",
    "# Stars rating distribution for each tacobell restaurant\n",
    "d1 = {}\n",
    "for i in tacobell_id:\n",
    "    d1[i] = Counter([j['stars'] for j in tacobell_reviews if j['business_id'] == i])\n",
    "\n",
    "# Average stars rating for each tacobell restaurant\n",
    "def f(i):\n",
    "    \"\"\" Returns avg rating for inputted restaurant id\"\"\"\n",
    "    c = 0\n",
    "    s = 0\n",
    "    for r in tacobell_reviews:\n",
    "        if r['business_id'] == i:\n",
    "            c += r['stars']\n",
    "            s += 1\n",
    "    return c/s \n",
    "\n",
    "tacobell_res_avg_rating = {}\n",
    "for i in tacobell_id:\n",
    "    tacobell_res_avg_rating[i] = f(i)\n",
    "\n",
    "# Stars rating distribution for each chipotle restaurant\n",
    "d2 = {}\n",
    "for i in chipotle_id:\n",
    "    d2[i] = Counter([j['stars'] for j in chipotle_reviews if j['business_id'] == i])\n",
    "\n",
    "# Average stars rating for each tacobell restuarant\n",
    "def g(i):\n",
    "    \"\"\" Returns avg rating for inputted restaurant id\"\"\"\n",
    "    c = 0\n",
    "    s = 0\n",
    "    for r in chipotle_reviews:\n",
    "        if r['business_id'] == i:\n",
    "            c += r['stars']\n",
    "            s += 1\n",
    "    return c/s \n",
    "\n",
    "chipotle_res_avg_rating = {}\n",
    "for i in chipotle_id:\n",
    "    chipotle_res_avg_rating[i] = g(i)\n"
   ]
  },
  {
   "cell_type": "markdown",
   "id": "e62cb86e",
   "metadata": {},
   "source": [
    "## Some Tacobell Plots"
   ]
  },
  {
   "cell_type": "code",
   "execution_count": null,
   "id": "183573e3",
   "metadata": {},
   "outputs": [],
   "source": [
    "# Number of tacobell reviews per month plot\n",
    "path = 'C:/Users/tsai_/Desktop/U Wisconsin - Madison/Courses/2nd year/Fall 2021/STAT 628/Module 3'\n",
    "df = pd.DataFrame(tacobell_reviews)\n",
    "df['date'] = pd.to_datetime(df['date'])\n",
    "df = df.set_index('date')\n",
    "py.plot(df['text'].resample('M').count())\n",
    "py.xlabel('Year')\n",
    "py.ylabel('Number of reviews')\n",
    "py.title('Number of reviews per month')\n",
    "py.savefig(path + 'tacobell reviews per month.png')\n",
    "py.show()\n",
    "py.close()\n",
    "\n",
    "\n",
    "# Distribution of Tacobell Customer ratings\n",
    "ax = sns.barplot(data=df, x='stars', y='stars', estimator=lambda x: len(x) / len(df) * 100)\n",
    "ax.set(ylabel='Percent')\n",
    "py.title('Distribution of Customer Rating')\n",
    "py.savefig(path + 'Tacobell customer ratings distribution.png')\n",
    "py.show()\n",
    "py.close()\n",
    "\n",
    "# Average Monthly Customer Rating Tacobell\n",
    "py.plot(df['stars'].resample('M').mean())\n",
    "py.xlabel('Year')\n",
    "py.ylabel('Rating')\n",
    "py.title('Average Monthly Customer Rating')\n",
    "py.ylim(0, 5)\n",
    "py.savefig(path + 'tacobell average monthly customer rating.png')\n",
    "py.show()\n",
    "py.close()\n",
    "\n"
   ]
  },
  {
   "cell_type": "markdown",
   "id": "fe893b9f",
   "metadata": {},
   "source": [
    "## Preliminary NLP "
   ]
  },
  {
   "cell_type": "code",
   "execution_count": null,
   "id": "4a096cce",
   "metadata": {},
   "outputs": [],
   "source": [
    "# Checking for reviews not in English \n",
    "language = [detect_langs(i) for i in df.text]\n",
    "languages = [str(i[0]).split(':')[0] for i in language]\n",
    "df['language'] = languages\n",
    "# Remove reviews not in English \n",
    "df = df[df.language == 'en'] \n",
    "\n"
   ]
  },
  {
   "cell_type": "code",
   "execution_count": null,
   "id": "4ccba395",
   "metadata": {},
   "outputs": [],
   "source": []
  }
 ],
 "metadata": {
  "kernelspec": {
   "display_name": "Python 3",
   "language": "python",
   "name": "python3"
  },
  "language_info": {
   "codemirror_mode": {
    "name": "ipython",
    "version": 3
   },
   "file_extension": ".py",
   "mimetype": "text/x-python",
   "name": "python",
   "nbconvert_exporter": "python",
   "pygments_lexer": "ipython3",
   "version": "3.7.3"
  }
 },
 "nbformat": 4,
 "nbformat_minor": 5
}
